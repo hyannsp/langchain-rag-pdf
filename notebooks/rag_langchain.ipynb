{
 "cells": [
  {
   "cell_type": "markdown",
   "id": "b5179dc4",
   "metadata": {},
   "source": [
    "# Começando com RAG\n",
    "Fazer o LLM utilizar um arquivo selecionado, para aplicar RAG com langchain"
   ]
  },
  {
   "cell_type": "markdown",
   "id": "afe89645",
   "metadata": {},
   "source": [
    "### O que são embeddings?\n",
    "Textos serão convertidos em vetores mas preservando o significado do conteúdo. A semelhança entre vetores é calculada utilizando o cosseno do ângulo entre eles (cosseno de singularidade), assim , dois vetores próximos terão ângulos pequenos e indicando alta similiaridade semântica."
   ]
  },
  {
   "cell_type": "markdown",
   "id": "06778b0a",
   "metadata": {},
   "source": [
    "## Importações e criação do modelo"
   ]
  },
  {
   "cell_type": "code",
   "execution_count": 3,
   "id": "4df4eaa6",
   "metadata": {},
   "outputs": [],
   "source": [
    "from langchain_text_splitters import RecursiveCharacterTextSplitter\n",
    "from langchain_community.document_loaders import TextLoader, PyPDFLoader\n",
    "from langchain_openai import ChatOpenAI #, OpenAIEmbeddings pago\n",
    "from langchain_community.embeddings import HuggingFaceEmbeddings # Gratis\n",
    "from langchain_core.output_parsers import StrOutputParser\n",
    "from langchain_community.vectorstores import FAISS\n",
    "from langchain.prompts import ChatPromptTemplate\n",
    "from dotenv import load_dotenv\n",
    "import os\n",
    "\n",
    "load_dotenv()\n",
    "\n",
    "API_KEY = os.getenv(\"API_KEY\")\n",
    "if API_KEY is None:\n",
    "    raise ValueError(\"A chave da API não foi definida no .env\")\n",
    "\n",
    "modelo = ChatOpenAI(\n",
    "    openai_api_key=API_KEY,\n",
    "    openai_api_base=\"https://openrouter.ai/api/v1\",     \n",
    "    model_name=\"meta-llama/llama-3-8b-instruct\"\n",
    ")"
   ]
  },
  {
   "cell_type": "markdown",
   "id": "68e86ecc",
   "metadata": {},
   "source": [
    "## RAG em arquivo TXT"
   ]
  },
  {
   "cell_type": "code",
   "execution_count": 2,
   "id": "ee260e23",
   "metadata": {},
   "outputs": [
    {
     "name": "stderr",
     "output_type": "stream",
     "text": [
      "/tmp/ipykernel_11672/3181071964.py:1: LangChainDeprecationWarning: The class `HuggingFaceEmbeddings` was deprecated in LangChain 0.2.2 and will be removed in 1.0. An updated version of the class exists in the :class:`~langchain-huggingface package and should be used instead. To use it run `pip install -U :class:`~langchain-huggingface` and import as `from :class:`~langchain_huggingface import HuggingFaceEmbeddings``.\n",
      "  embeddings = HuggingFaceEmbeddings(model_name=\"all-MiniLM-L6-v2\")\n",
      "/home/klovynho/projects/langchain-rag-pdf/.venv/lib/python3.12/site-packages/tqdm/auto.py:21: TqdmWarning: IProgress not found. Please update jupyter and ipywidgets. See https://ipywidgets.readthedocs.io/en/stable/user_install.html\n",
      "  from .autonotebook import tqdm as notebook_tqdm\n"
     ]
    },
    {
     "name": "stdout",
     "output_type": "stream",
     "text": [
      "Se você tiver um item roubado, você deve entrar em contato com o Serviço Global Mastercard e realizar os passos de registro da ocorrência. Seguindo as orientações fornecidas no Guia de Benefícios para o programam de Cartão da Edição Mastercard Gold.\n"
     ]
    }
   ],
   "source": [
    "embeddings = HuggingFaceEmbeddings(model_name=\"all-MiniLM-L6-v2\")\n",
    "\n",
    "# Leitura do documento\n",
    "documento = TextLoader(\n",
    "    \"../documents/GTB_gold_Nov23.txt\",\n",
    "    encoding=\"utf-8\"\n",
    ").load()\n",
    "\n",
    "# Quebrando o texto em pedaços (split)\n",
    "pedacos = RecursiveCharacterTextSplitter(\n",
    "    chunk_size=1000, # Split a cada 1000 char\n",
    "    chunk_overlap=100 # Sobreposição da chunksize para não tirar do contexto\n",
    ").split_documents(documento)\n",
    "\n",
    "# Utilizando o FAISS, uma base de dados vetorial simples e de uso gratuito\n",
    "dados_recuperados = FAISS.from_documents(\n",
    "    pedacos, embeddings\n",
    ").as_retriever(search_kwargs={\"k\":2}) # Recuperar embedding com posição de semelhança como top 2\n",
    "\n",
    "prompt_consulta_seguro = ChatPromptTemplate.from_messages(\n",
    "    [\n",
    "        (\"system\", \"Responda usando exclusivamente o conteúdo fornecido\"),\n",
    "        (\"human\", \"{query}\\n\\nContexto: \\n{contexto}\\n\\nResposta: \")\n",
    "    ]\n",
    ")\n",
    "\n",
    "cadeia = prompt_consulta_seguro | modelo | StrOutputParser()\n",
    "\n",
    "def responder(pergunta:str):\n",
    "    trechos = dados_recuperados.invoke(pergunta)\n",
    "    contexto = \"\\n\\n\".join(um_trecho.page_content for um_trecho in trechos)\n",
    "    return cadeia.invoke({\"query\": pergunta, \"contexto\": contexto})\n",
    "\n",
    "print(responder(\"Como devo proceder caso tenha um item roubado?\"))"
   ]
  },
  {
   "cell_type": "markdown",
   "id": "34192e47",
   "metadata": {},
   "source": [
    "## RAG em um arquivo PDF"
   ]
  },
  {
   "cell_type": "code",
   "execution_count": 6,
   "id": "e9a30446",
   "metadata": {},
   "outputs": [
    {
     "name": "stdout",
     "output_type": "stream",
     "text": [
      "Se você tiver um item comprado com o cartão Mastercard Gold e ele for roubado dentro do prazo exigido, é importante informar os dados para processamento do sinistro. Além disso, é recomendável:\n",
      "\n",
      "1. Entregar o boletim de ocorrência policial referente ao incidente dentro do prazo exigido.\n",
      "2. Informar as informações exigidas (recibo original de pagamento e anúncio impresso ou non-auction com desconto publicado dentro de 30 dias a partir da data de compra original).\n",
      "3. Ser colaborativo e fornecer todas as informações adicionais que forem solicitadas para o processamento do sinistro.\n",
      "\n",
      "Cabendo ao Portador de Cartão tomar as medidas cabíveis para proteger, salvaguardar e/ou recuperar o bem, é importante que você tenha feito todo o possível para recuperar o item.\n"
     ]
    }
   ],
   "source": [
    "embeddings = HuggingFaceEmbeddings(model_name=\"all-MiniLM-L6-v2\")\n",
    "\n",
    "# Caminho dos arquivos\n",
    "arquivos = [\n",
    "    \"../documents/GTB_standard_Nov23.pdf\",\n",
    "    \"../documents/GTB_gold_Nov23.pdf\",\n",
    "    \"../documents/GTB_platinum_Nov23.pdf\"\n",
    "]\n",
    "\n",
    "# Concatenando todos os documentos\n",
    "documentos = sum(\n",
    "    [PyPDFLoader(arquivo).load() for arquivo in arquivos], []\n",
    ")\n",
    "\n",
    "# Quebrando o texto em pedaços (split)\n",
    "pedacos = RecursiveCharacterTextSplitter(\n",
    "    chunk_size=1000, # Split a cada 1000 char\n",
    "    chunk_overlap=100 # Sobreposição da chunksize para não tirar do contexto\n",
    ").split_documents(documentos)\n",
    "\n",
    "# Utilizando o FAISS, uma base de dados vetorial simples e de uso gratuito\n",
    "dados_recuperados = FAISS.from_documents(\n",
    "    pedacos, embeddings\n",
    ").as_retriever(search_kwargs={\"k\":2}) # Recuperar embedding com posição de semelhança como top 2\n",
    "\n",
    "prompt_consulta_seguro = ChatPromptTemplate.from_messages(\n",
    "    [\n",
    "        (\"system\", \"Responda usando exclusivamente o conteúdo fornecido\"),\n",
    "        (\"human\", \"{query}\\n\\nContexto: \\n{contexto}\\n\\nResposta: \")\n",
    "    ]\n",
    ")\n",
    "\n",
    "cadeia = prompt_consulta_seguro | modelo | StrOutputParser()\n",
    "\n",
    "def responder(pergunta:str):\n",
    "    trechos = dados_recuperados.invoke(pergunta)\n",
    "    contexto = \"\\n\\n\".join(um_trecho.page_content for um_trecho in trechos)\n",
    "    return cadeia.invoke({\"query\": pergunta, \"contexto\": contexto})\n",
    "\n",
    "print(responder(\"Como devo proceder caso tenha um item comprado roubado e caso eu tenha o cartão gold?\"))"
   ]
  }
 ],
 "metadata": {
  "kernelspec": {
   "display_name": ".venv",
   "language": "python",
   "name": "python3"
  },
  "language_info": {
   "codemirror_mode": {
    "name": "ipython",
    "version": 3
   },
   "file_extension": ".py",
   "mimetype": "text/x-python",
   "name": "python",
   "nbconvert_exporter": "python",
   "pygments_lexer": "ipython3",
   "version": "3.12.3"
  }
 },
 "nbformat": 4,
 "nbformat_minor": 5
}
