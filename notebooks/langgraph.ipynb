{
 "cells": [
  {
   "cell_type": "markdown",
   "id": "d69d86c2",
   "metadata": {},
   "source": [
    "# LangGraph\n",
    "Utiliza cadeias de forma não linear, em formato de grafos, podendo tomar rotas diferentes durante a execução."
   ]
  },
  {
   "cell_type": "code",
   "execution_count": 1,
   "id": "cb439291",
   "metadata": {},
   "outputs": [],
   "source": [
    "from langchain_core.output_parsers import StrOutputParser\n",
    "from langchain_core.prompts import ChatPromptTemplate\n",
    "from langchain_openai import ChatOpenAI\n",
    "from dotenv import load_dotenv\n",
    "import os\n",
    "\n",
    "load_dotenv()\n",
    "\n",
    "API_KEY = os.getenv(\"API_KEY\")\n",
    "if API_KEY is None:\n",
    "    raise ValueError(\"A chave da API não foi definida no .env\")\n",
    "\n",
    "modelo = ChatOpenAI(\n",
    "    openai_api_key=API_KEY,\n",
    "    openai_api_base=\"https://openrouter.ai/api/v1\",     \n",
    "    model_name=\"meta-llama/llama-3-8b-instruct\"\n",
    ")"
   ]
  },
  {
   "cell_type": "code",
   "execution_count": null,
   "id": "a2e9361b",
   "metadata": {},
   "outputs": [
    {
     "ename": "SyntaxError",
     "evalue": "invalid syntax (233385615.py, line 10)",
     "output_type": "error",
     "traceback": [
      "  \u001b[36mCell\u001b[39m\u001b[36m \u001b[39m\u001b[32mIn[2]\u001b[39m\u001b[32m, line 10\u001b[39m\n\u001b[31m    \u001b[39m\u001b[31mprint(assistente.invoke(\"query\": \"Quero férias em praias no Brasil.\"))\u001b[39m\n                                   ^\n\u001b[31mSyntaxError\u001b[39m\u001b[31m:\u001b[39m invalid syntax\n"
     ]
    }
   ],
   "source": [
    "prompt_consultor = ChatPromptTemplate.from_messages(\n",
    "    [\n",
    "        (\"system\", \"Você é um consultor de viagens.\"),\n",
    "        (\"human\", \"{query}\")\n",
    "    ]\n",
    ")\n",
    "\n",
    "assistente = prompt_consultor | modelo | StrOutputParser()\n",
    "\n",
    "print(assistente.invoke({\"query\": \"Quero férias em praias no Brasil.\"}))"
   ]
  }
 ],
 "metadata": {
  "kernelspec": {
   "display_name": ".venv",
   "language": "python",
   "name": "python3"
  },
  "language_info": {
   "codemirror_mode": {
    "name": "ipython",
    "version": 3
   },
   "file_extension": ".py",
   "mimetype": "text/x-python",
   "name": "python",
   "nbconvert_exporter": "python",
   "pygments_lexer": "ipython3",
   "version": "3.12.3"
  }
 },
 "nbformat": 4,
 "nbformat_minor": 5
}
