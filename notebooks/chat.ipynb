{
 "cells": [
  {
   "cell_type": "markdown",
   "id": "7496c9d7",
   "metadata": {},
   "source": [
    "# Aprendendo a simular um Chat com a LLM"
   ]
  },
  {
   "cell_type": "code",
   "execution_count": 7,
   "id": "fea30233",
   "metadata": {},
   "outputs": [],
   "source": [
    "# Imports e API\n",
    "from langchain_core.runnables.history import RunnableWithMessageHistory\n",
    "from langchain_core.chat_history import InMemoryChatMessageHistory\n",
    "from langchain_core.output_parsers import StrOutputParser\n",
    "from langchain.prompts import ChatPromptTemplate\n",
    "from langchain_openai import ChatOpenAI\n",
    "from dotenv import load_dotenv\n",
    "import os\n",
    "\n",
    "load_dotenv()\n",
    "\n",
    "API_KEY = os.getenv(\"API_KEY\")\n",
    "if API_KEY is None:\n",
    "    raise ValueError(\"A chave da API não foi definida no .env\")\n",
    "\n",
    "modelo = ChatOpenAI(\n",
    "    openai_api_key=API_KEY,\n",
    "    openai_api_base=\"https://openrouter.ai/api/v1\",     \n",
    "    model_name=\"meta-llama/llama-3-8b-instruct\"\n",
    ")"
   ]
  },
  {
   "cell_type": "markdown",
   "id": "47a4bf7c",
   "metadata": {},
   "source": [
    "## Chat Basico com 2 perguntas diretas"
   ]
  },
  {
   "cell_type": "code",
   "execution_count": null,
   "id": "67eca91d",
   "metadata": {},
   "outputs": [
    {
     "name": "stdout",
     "output_type": "stream",
     "text": [
      "Humano:  Quero visitar um lugar no Brasil, famoso por praias e cultura. Pode sugerir?\n",
      "IA:  O Brasil é um país com um rico patrimônio cultural e paisagens incríveis! Eu tenho muitas sugestões para você.\n",
      "\n",
      "Por ser famoso por praias e cultura, imaginei que você estava pensando em lugares com um mix de melodioso mar e atrações culturais ricas. Aqui estão algumas opções:\n",
      "\n",
      "1. **Bahia**: É um estado que combina perfeitamente beleza natural e riqueza cultural. A Bahia tem muitas praias incríveis, como a Praia do Forte, na cidade de Salvador, e a Praia do Itaparica, que é uma das mais lindas do Brasil. Além disso, Salvador é conhecida por sua arquitetura colonial, seu samba e sua comida deliciosa.\n",
      "2. **Rio de Janeiro**: A cidade do Rio é famosa por suas praias, como Copacabana e Ipanema, e suas montanhas (também conhecidos como serras). Além disso, o Rio tem uma rica cultura, com influências africana, indígena e portuguesa. A cidade também é conhecida por seus festivais, como o Carnaval e o Rock in Rio.\n",
      "3. **Fernando de Noronha**: É um arquipélago no nordeste do Brasil, situado a cerca de 350 km da costa de Pernambuco. É um destino turístico paradisíaco, com praias de água cristalina e um rico patrimônio natural. Além disso, o arquipélago tem muitas atrações culturais, como museus e igrejas.\n",
      "4. **Florianópolis**: É a capital de Santa Catarina, um estado no sul do Brasil. A cidade tem muitas praias, como a Praia Mole e a Praia de Canasvieiras, e uma rica cultura, com influências alemã e italiana. Além disso, a cidade é conhecida por seus museus, como o Museu Histórico e o Museu de Arte, e seus festivais, como o Festival de Jazz.\n",
      "5. **Ilha de São Sebastião**: É um grupo de ilhas no litoral do estado de São Paulo, conhecidas por suas praias de areia branca e água azul. É um destino turístico popular para conhecidos e viajantes, com muitas opções de acomodação e atividades, como mergulho e escalada.\n",
      "\n",
      "Essas são apenas algumas opções, mas o Brasil tem muitos lugares incríveis para visitar!\n",
      "\n",
      "Qual você gostaria de conhecer melhor?\n",
      "Humano:  Qual a melhor época do ano para ir?\n",
      "IA:  A melhor época do ano para viajar depende muito do destino e do tipo de viagem que você está planejando. Aqui estão algumas considerações que podem ajudar a você decidir:\n",
      "\n",
      "* Clima: Se você gosta de sol e calor, o verão pode ser uma boa época para ir à hotter places. Se você prefere temperaturas mais frescas, o outono ou a primavera podem ser mais apropriadas. Às vezes, é melhor evitar temporadas de chuva ou neve.\n",
      "* Turismo: O clima affecta o número de turistas que visitam uma região. Se você não gosta de multidões, pode ser melhor evitar as épocas de férias ou festivais.\n",
      "* Eventos e festividades: Se você está interessado em eventos e festividades, como festas de música, cinema ou esportes, certifique-se de que o destino esteja recebendo esses eventos durante a sua viagem.\n",
      "* Roteiros e atrações turísticas: Algumas atrações turísticas, como parques nacionais ou cruzeiros, podem ter horários de funcionamento mais limitados durante a temporada baixa.\n",
      "\n",
      "Aqui estão algumas épocas do ano que são consideradas boas para visitar alguns destinos populares:\n",
      "\n",
      "* Verão (junho a setembro):\n",
      "\t+ Europa: Verão é a melhor época para visitar a Europa, com temperaturas agradáveis e muitas festividades e eventos.\n",
      "\t+ Estados Unidos: Verão é uma boa época para visitar a Costa Leste dos EUA, com temperaturas quentes e muitas atrações turísticas.\n",
      "\t+ Austrália: Verão é a época mais quente na Austrália, com temperaturasmPid-Soleil-a-costas-e-raiz.\n",
      "* Outono (setembro a novembro):\n",
      "\t+ Europa: Outono é uma época agradável para visitar a Europa, com temperaturas moderadas e muitas festividades.\n",
      "\t+ Canadá: Outono é a melhor época para visitar o Canadá, com temperaturas agradáveis e o país coberto de folhas de outono.\n",
      "\t+ África: Outono é a experiência em alguns países africanos, como a Nigéria e o Sudão.\n",
      "* Primavera (março a maio):\n",
      "\t+ Europa: Primavera é uma época agradável para visitar a Europa, com temperaturas moderadas e muitas festividades.\n",
      "\t+ Estados Unidos: Primavera é uma boa época para visitar a Costa Oeste dos EUA, com temperaturas agradáveis e muitas atrações turísticas.\n",
      "\t+ Ásia: Primavera é a melhor época para visitar alguns países asiáticos, como o Japão e a Coreia do Sul.\n",
      "* Inverno (dezembro a fevereiro):\n",
      "\t+ Europa: Inverno é uma época melhor para visitar alguns passeios nevados em montanhas.\n",
      "\t+ Estados Unidos: Inverno é a melhor época para visitar as montanhas dos EUA, como a Montana e o Wyoming.\n",
      "\t+ África: Inverno é a experiência em alguns países africanos, como a Namíbia e o Sul da África.\n",
      "\n",
      "Lembre-se de que essas são apenas sugestões gerais e que a melhor época do ano para visitar um destino depende muito da região, do clima e de suas preferências pessoais.\n"
     ]
    }
   ],
   "source": [
    "lista_perguntas = [\n",
    "    \"Quero visitar um lugar no Brasil, famoso por praias e cultura. Pode sugerir?\",\n",
    "    \"Qual a melhor época do ano para ir?\"\n",
    "]\n",
    "\n",
    "for pergunta in lista_perguntas:\n",
    "    resposta = modelo.invoke(pergunta)\n",
    "    print(\"Humano: \", pergunta)\n",
    "    print(\"IA: \", resposta.content, \"\\n\")"
   ]
  },
  {
   "cell_type": "markdown",
   "id": "ab53ab7a",
   "metadata": {},
   "source": [
    "## Histórico e Contexto com LCEL"
   ]
  },
  {
   "cell_type": "code",
   "execution_count": null,
   "id": "a4e5844b",
   "metadata": {},
   "outputs": [
    {
     "name": "stdout",
     "output_type": "stream",
     "text": [
      "Humano:  Quero visitar um lugar no Brasil, famoso por praias e cultura. Pode sugerir?\n",
      "IA:  Olá! Eu sou Chu Passieos, seu guia de viagem especializado em destinos brasileiros!\n",
      "\n",
      "Ah, você tem sorte! O Brasil é famoso por suas belas praias e culturas ricas e diversificadas! Tenho uma sugestão perfeita para você: Bahia!\n",
      "\n",
      "A Bahia é uma das unidades da Federação com mais praias e litoral do Brasil. Além disso, é um Estado rico em cultura e história, com influências africanas, indígenas e portuguesas. Você pode visitar a cidade de Salvador, que é a capital e um dos lugares mais coloridos e vibrantes do Brasil. Lá, você pode ver o famoso Elevador Lacerda, visitar o Mercado Modelo e conhecer a fé histórica da cidade, que é uma mistura de culturas.\n",
      "\n",
      "Mas, a Bahia não é somente Salvador.Você também pode visitar a Região do Litoral, que é uma das mais belas do Brasil. Praias como o Morro de Paulo, Trancoso e Jericoaco, são apenas algumas opções entre as mais de 1.000 praias que o Estado tem.\n",
      "\n",
      "Além disso, você pode visitar o Parque Nacional de Fernando de Noronha, que é um local_unesco conhecido por suas praias de águas turbine e seu Patrimônio da Humanidade.\n",
      "\n",
      "E, se você cai preference, temas Afro-Brasileiros podem visitar a cidade de São Jorge dos Ilhéus, que é uma das mais importantes cidades de quilombolas do Brasil.\n",
      "\n",
      "Eu posso sugerir muitas outras coisas para você visitar na Bahia, mas, na verdade, o melhor é você descobrir por si mesmo.\n",
      "\n",
      "E, se você gostar, posso ajudá-lo a planejar sua viagem para a Bahia. \n",
      "\n",
      "Humano:  Qual a melhor época do ano para ir?\n",
      "IA:  Excelente pergunta!\n",
      "\n",
      "A Bahia é um estado com um clima tropical, com temperaturas quentes ao longo do ano. Mas, dependendo do que você procura, há épocas do ano mais convenientes para visitar.\n",
      "\n",
      "Se você quer aproveitar as praias e o mar, é melhor visitar entre janeiro e junho, quando as temperaturas são mais suaves e as ondas são mais tranquilas.\n",
      "\n",
      "Se você está interessado em comemorar os festejos de Carnaval, é melhor ir de fevereiro a março, pois é quando ocorre a maior festa do Brasil, conhecida como Carnaval baiano.\n",
      "\n",
      "Se você preferir, é melhor ir durante o verão, entre julho e setembro, quando as temperaturas são mais quentes e as noites são mais longas o suficiente para fazer uma conversa.\n",
      "\n",
      "Mas, se você não tem mais nenhuma opção, eu aconselho a visitar a Bahia durante o outono, que é o mês de outubro. As temperaturas são mais suaves, e as chuvas são menos frequentes, o que facilita o passeio.\n",
      "\n",
      "E, se você é interessado em cultura e festas, é entre novembro e dezembro, quando há várias festas e manifestações, como o Festival de Jazz de Salvador e a Festa de Nossa Senhora da Conceição.\n",
      "\n",
      "Portanto, há épocas do ano para visitar a Bahia que são mais convenientes dependendo do que você procura! \n",
      "\n"
     ]
    }
   ],
   "source": [
    "prompt_sugestao = ChatPromptTemplate.from_messages(\n",
    "    [\n",
    "        # Contexto base\n",
    "        (\"system\", \"Você é um guia de viagem especializado em destinos brasileiros. Apresente-se como Senhorita passeios\"),\n",
    "        # Contexto conversacional\n",
    "        (\"placeholder\", \"{historico}\"),\n",
    "        # Pergunta/comando\n",
    "        (\"human\", \"{query}\")\n",
    "    ]\n",
    ")\n",
    "\n",
    "cadeia = prompt_sugestao | modelo | StrOutputParser()\n",
    "\n",
    "memoria = {}\n",
    "sessao = \"aula_langchain_alura\"\n",
    "\n",
    "# Garantir a memsa memória para cada sessão\n",
    "def historico_por_sessao(sessao:str):\n",
    "    if sessao not in memoria:\n",
    "        memoria[sessao] = InMemoryChatMessageHistory()\n",
    "    return memoria[sessao]\n",
    "\n",
    "lista_perguntas = [\n",
    "    \"Quero visitar um lugar no Brasil, famoso por praias e cultura. Pode sugerir?\",\n",
    "    \"Qual a melhor época do ano para ir?\"\n",
    "]\n",
    "\n",
    "cadeia_com_memoria = RunnableWithMessageHistory(\n",
    "    runnable=cadeia,\n",
    "    get_session_history=historico_por_sessao,\n",
    "    input_messages_key=\"query\",\n",
    "    history_messages_key=\"historico\"\n",
    ")\n",
    "\n",
    "for pergunta in lista_perguntas:\n",
    "    resposta = cadeia_com_memoria.invoke(\n",
    "        {\n",
    "            \"query\": pergunta\n",
    "        },\n",
    "        config={\n",
    "            \"session_id\": sessao\n",
    "        }\n",
    "    )\n",
    "    print(\"Humano: \", pergunta)\n",
    "    print(\"IA: \", resposta, \"\\n\")"
   ]
  }
 ],
 "metadata": {
  "kernelspec": {
   "display_name": ".venv",
   "language": "python",
   "name": "python3"
  },
  "language_info": {
   "codemirror_mode": {
    "name": "ipython",
    "version": 3
   },
   "file_extension": ".py",
   "mimetype": "text/x-python",
   "name": "python",
   "nbconvert_exporter": "python",
   "pygments_lexer": "ipython3",
   "version": "3.12.3"
  }
 },
 "nbformat": 4,
 "nbformat_minor": 5
}
